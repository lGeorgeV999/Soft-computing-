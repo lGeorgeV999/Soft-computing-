{
 "cells": [
  {
   "cell_type": "markdown",
   "id": "00b3c71c",
   "metadata": {},
   "source": [
    "Aim: Using the inbuilt python libraries for string matching using fuzzy logic\n",
    "=="
   ]
  },
  {
   "cell_type": "code",
   "execution_count": 1,
   "id": "33af6a6e",
   "metadata": {},
   "outputs": [],
   "source": [
    "import warnings\n",
    "warnings.filterwarnings('ignore')"
   ]
  },
  {
   "cell_type": "code",
   "execution_count": 2,
   "id": "2d31c5f8",
   "metadata": {},
   "outputs": [
    {
     "name": "stdout",
     "output_type": "stream",
     "text": [
      "Requirement already satisfied: fuzzywuzzy in ./opt/anaconda3/lib/python3.9/site-packages (0.18.0)\r\n"
     ]
    }
   ],
   "source": [
    "!pip install fuzzywuzzy\n"
   ]
  },
  {
   "cell_type": "code",
   "execution_count": 3,
   "id": "721ece40",
   "metadata": {},
   "outputs": [
    {
     "name": "stdout",
     "output_type": "stream",
     "text": [
      "Requirement already satisfied: python-Levenshtein in ./opt/anaconda3/lib/python3.9/site-packages (0.20.9)\r\n",
      "Requirement already satisfied: Levenshtein==0.20.9 in ./opt/anaconda3/lib/python3.9/site-packages (from python-Levenshtein) (0.20.9)\r\n",
      "Requirement already satisfied: rapidfuzz<3.0.0,>=2.3.0 in ./opt/anaconda3/lib/python3.9/site-packages (from Levenshtein==0.20.9->python-Levenshtein) (2.13.7)\r\n"
     ]
    }
   ],
   "source": [
    "!pip install python-Levenshtein\n"
   ]
  },
  {
   "cell_type": "code",
   "execution_count": 6,
   "id": "6bf558de",
   "metadata": {},
   "outputs": [],
   "source": [
    "from fuzzywuzzy import fuzz, process"
   ]
  },
  {
   "cell_type": "code",
   "execution_count": 4,
   "id": "70509792",
   "metadata": {},
   "outputs": [],
   "source": [
    "str1 = 'LijuGeorge is a lifesaver'\n",
    "str2 = 'Liju George is a Life Saver'"
   ]
  },
  {
   "cell_type": "code",
   "execution_count": 7,
   "id": "fc285c01",
   "metadata": {},
   "outputs": [
    {
     "data": {
      "text/plain": [
       "96"
      ]
     },
     "execution_count": 7,
     "metadata": {},
     "output_type": "execute_result"
    }
   ],
   "source": [
    "ratio = fuzz.ratio(str1.lower(), str2.lower())\n",
    "ratio"
   ]
  },
  {
   "cell_type": "code",
   "execution_count": 8,
   "id": "0f9d87df",
   "metadata": {},
   "outputs": [
    {
     "data": {
      "text/plain": [
       "88"
      ]
     },
     "execution_count": 8,
     "metadata": {},
     "output_type": "execute_result"
    }
   ],
   "source": [
    "ratio2 = fuzz.ratio(str1, str2)\n",
    "ratio2"
   ]
  },
  {
   "cell_type": "markdown",
   "id": "0f2c41eb",
   "metadata": {},
   "source": [
    "Partial Ratio \n",
    "=="
   ]
  },
  {
   "cell_type": "code",
   "execution_count": 9,
   "id": "61258f76",
   "metadata": {},
   "outputs": [],
   "source": [
    "str1 = 'Mumbai, Maharashtra'\n",
    "str2 = 'Mumbai'\n"
   ]
  },
  {
   "cell_type": "code",
   "execution_count": 10,
   "id": "43bfbc16",
   "metadata": {},
   "outputs": [
    {
     "data": {
      "text/plain": [
       "100"
      ]
     },
     "execution_count": 10,
     "metadata": {},
     "output_type": "execute_result"
    }
   ],
   "source": [
    "pratio = fuzz.partial_ratio(str1,str2)\n",
    "pratio"
   ]
  },
  {
   "cell_type": "code",
   "execution_count": 11,
   "id": "44f80f27",
   "metadata": {},
   "outputs": [
    {
     "data": {
      "text/plain": [
       "48"
      ]
     },
     "execution_count": 11,
     "metadata": {},
     "output_type": "execute_result"
    }
   ],
   "source": [
    "ratio3 = fuzz.ratio(str1, str2)\n",
    "ratio3"
   ]
  },
  {
   "cell_type": "code",
   "execution_count": 12,
   "id": "f1cf1b94",
   "metadata": {},
   "outputs": [
    {
     "name": "stdout",
     "output_type": "stream",
     "text": [
      "Partial Ratio is 100\n",
      "Ratio is 52\n"
     ]
    }
   ],
   "source": [
    "strA = 'Neil Nitin Mukesh'\n",
    "strB = 'Mukesh'\n",
    "pratio = fuzz.partial_ratio(strA,strB)\n",
    "print('Partial Ratio is',pratio)\n",
    "ratio = fuzz.ratio(strA,strB)\n",
    "print('Ratio is',ratio)"
   ]
  },
  {
   "cell_type": "markdown",
   "id": "0e7f6618",
   "metadata": {},
   "source": [
    "Token Sort Ratio\n",
    "=="
   ]
  },
  {
   "cell_type": "code",
   "execution_count": 13,
   "id": "24d03e22",
   "metadata": {},
   "outputs": [
    {
     "name": "stdout",
     "output_type": "stream",
     "text": [
      "Token Sort Ratio is 100\n",
      "Ratio is 71\n"
     ]
    }
   ],
   "source": [
    "# calculates the ratio by matching the alphabets in a order\n",
    "\n",
    "strA = 'Neil Nitin Mukesh'\n",
    "strB = 'Nitin Neil Mukesh'\n",
    "tsratio = fuzz.token_sort_ratio(strA,strB)\n",
    "print('Token Sort Ratio is',tsratio)\n",
    "ratio = fuzz.ratio(strA,strB)\n",
    "print('Ratio is',ratio)"
   ]
  },
  {
   "cell_type": "markdown",
   "id": "a55bd214",
   "metadata": {},
   "source": [
    "Fuzzy Wuzzy\n",
    "==\n",
    "library provide first API which is very useful in doing string matching for applications like NLP, it provides us with variety of string matching functions that can be used in different scenarios.\n",
    "\n",
    "Ratio Function\n",
    "==\n",
    "finds out the similarity ratio between the two string using the Levenshtein distance formula.\n",
    "\n",
    "Partial Ratio Function\n",
    "==\n",
    "it is used to perform sub-string matching. This function is typically useful while matching people's name\n",
    "\n",
    "Token Sort Ratio function\n",
    "==\n",
    "sorts the string alphabetically and then do matching on the alphabetically sorted versions of the string."
   ]
  },
  {
   "cell_type": "code",
   "execution_count": 14,
   "id": "5101efc9",
   "metadata": {},
   "outputs": [],
   "source": [
    "# ratio "
   ]
  },
  {
   "cell_type": "code",
   "execution_count": 15,
   "id": "dd54fbd0",
   "metadata": {},
   "outputs": [
    {
     "name": "stdout",
     "output_type": "stream",
     "text": [
      "Ratio is 87\n",
      "Ratio is 87\n"
     ]
    }
   ],
   "source": [
    "str1 = 'truth or dare'\n",
    "str2 = 'truth dare'\n",
    "ratio = fuzz.ratio(str1.lower(),str2.lower())\n",
    "print('Ratio is',ratio)\n",
    "ratio1 = fuzz.ratio(str1,str2)\n",
    "print('Ratio is',ratio1)"
   ]
  },
  {
   "cell_type": "code",
   "execution_count": 16,
   "id": "1db712ef",
   "metadata": {},
   "outputs": [
    {
     "name": "stdout",
     "output_type": "stream",
     "text": [
      "Ratio is 86\n",
      "Ratio is 76\n"
     ]
    }
   ],
   "source": [
    "str1 = 'TruthOr Dare'\n",
    "str2 = 'Truthdare'\n",
    "ratio = fuzz.ratio(str1.lower(),str2.lower())\n",
    "print('Ratio is',ratio)\n",
    "ratio1 = fuzz.ratio(str1,str2)\n",
    "print('Ratio is',ratio1)"
   ]
  },
  {
   "cell_type": "code",
   "execution_count": 17,
   "id": "4c248fd5",
   "metadata": {},
   "outputs": [],
   "source": [
    "# Partial Ratio"
   ]
  },
  {
   "cell_type": "code",
   "execution_count": 18,
   "id": "7076501d",
   "metadata": {},
   "outputs": [
    {
     "name": "stdout",
     "output_type": "stream",
     "text": [
      "Partial Ratio is 100\n",
      "Ratio is 96\n"
     ]
    }
   ],
   "source": [
    "strA = 'truth or dare'\n",
    "strB = 'truth or dare!'\n",
    "pratio = fuzz.partial_ratio(strA,strB)\n",
    "print('Partial Ratio is',pratio)\n",
    "ratio = fuzz.ratio(strA,strB)\n",
    "print('Ratio is',ratio)"
   ]
  },
  {
   "cell_type": "code",
   "execution_count": 19,
   "id": "26d16623",
   "metadata": {},
   "outputs": [
    {
     "name": "stdout",
     "output_type": "stream",
     "text": [
      "Partial Ratio is 70\n",
      "Ratio is 87\n"
     ]
    }
   ],
   "source": [
    "strA = 'truth or dare'\n",
    "strB = 'truth dare'\n",
    "pratio = fuzz.partial_ratio(strA,strB)\n",
    "print('Partial Ratio is',pratio)\n",
    "ratio = fuzz.ratio(strA,strB)\n",
    "print('Ratio is',ratio)"
   ]
  },
  {
   "cell_type": "code",
   "execution_count": 20,
   "id": "2c02db16",
   "metadata": {},
   "outputs": [
    {
     "name": "stdout",
     "output_type": "stream",
     "text": [
      "Partial Ratio is 70\n",
      "Ratio is 78\n"
     ]
    }
   ],
   "source": [
    "strA = 'Raj Kapoor'\n",
    "strB = 'Ranbir Kapoor'\n",
    "pratio = fuzz.partial_ratio(strA,strB)\n",
    "print('Partial Ratio is',pratio)\n",
    "ratio = fuzz.ratio(strA,strB)\n",
    "print('Ratio is',ratio)"
   ]
  },
  {
   "cell_type": "code",
   "execution_count": 21,
   "id": "347e7aa2",
   "metadata": {},
   "outputs": [],
   "source": [
    "# Token Sort Ratio"
   ]
  },
  {
   "cell_type": "code",
   "execution_count": 22,
   "id": "2ea5758b",
   "metadata": {},
   "outputs": [
    {
     "name": "stdout",
     "output_type": "stream",
     "text": [
      "Token Sort Ratio is 100\n",
      "Ratio is 46\n"
     ]
    }
   ],
   "source": [
    "strA = 'truth or dare'\n",
    "strB = 'dare or truth'\n",
    "tsratio = fuzz.token_sort_ratio(strA,strB)\n",
    "print('Token Sort Ratio is',tsratio)\n",
    "ratio = fuzz.ratio(strA,strB)\n",
    "print('Ratio is',ratio)"
   ]
  },
  {
   "cell_type": "code",
   "execution_count": 23,
   "id": "dc7fb42d",
   "metadata": {},
   "outputs": [
    {
     "name": "stdout",
     "output_type": "stream",
     "text": [
      "Token Sort Ratio is 100\n",
      "Ratio is 54\n"
     ]
    }
   ],
   "source": [
    "strA = 'truth or dare'\n",
    "strB = 'or dare truth'\n",
    "tsratio = fuzz.token_sort_ratio(strA,strB)\n",
    "print('Token Sort Ratio is',tsratio)\n",
    "ratio = fuzz.ratio(strA,strB)\n",
    "print('Ratio is',ratio)"
   ]
  },
  {
   "cell_type": "code",
   "execution_count": 25,
   "id": "180ba7f7",
   "metadata": {},
   "outputs": [],
   "source": [
    "# Token Set Ratio"
   ]
  },
  {
   "cell_type": "code",
   "execution_count": 26,
   "id": "acd675c5",
   "metadata": {},
   "outputs": [
    {
     "name": "stdout",
     "output_type": "stream",
     "text": [
      "Token Sort Ratio is 90\n",
      "Token Set Ratio is 100\n"
     ]
    }
   ],
   "source": [
    "a = 'truth or dare'\n",
    "b = 'truth or or dare'\n",
    "tsratio = fuzz.token_sort_ratio(a,b)\n",
    "print('Token Sort Ratio is',tsratio)\n",
    "\n",
    "tsetratio = fuzz.token_set_ratio(a,b)\n",
    "print('Token Set Ratio is',tsetratio)"
   ]
  },
  {
   "cell_type": "code",
   "execution_count": 27,
   "id": "cac838c6",
   "metadata": {},
   "outputs": [
    {
     "name": "stdout",
     "output_type": "stream",
     "text": [
      "Token Sort Ratio is 77\n",
      "Token Set Ratio is 100\n"
     ]
    }
   ],
   "source": [
    "a = 'Neil Nitin'\n",
    "b = 'Neil Nitin Nitin'\n",
    "tsratio = fuzz.token_sort_ratio(a,b)\n",
    "print('Token Sort Ratio is',tsratio)\n",
    "\n",
    "tsetratio = fuzz.token_set_ratio(a,b)\n",
    "print('Token Set Ratio is',tsetratio)"
   ]
  },
  {
   "cell_type": "markdown",
   "id": "113ab8a3",
   "metadata": {},
   "source": [
    "WRatio\n",
    "==\n",
    "WRatio is a string matching function that has the ability to ignore the uppercase, lowercase and also alpha-numeric characters."
   ]
  },
  {
   "cell_type": "code",
   "execution_count": 28,
   "id": "f1ba73e8",
   "metadata": {},
   "outputs": [
    {
     "name": "stdout",
     "output_type": "stream",
     "text": [
      "W Ratio is 77\n"
     ]
    }
   ],
   "source": [
    "a = 'I Love Myself'\n",
    "b = 'I am loving myself'\n",
    "wratio = fuzz.WRatio(a,b)\n",
    "print('W Ratio is',wratio)"
   ]
  },
  {
   "cell_type": "code",
   "execution_count": 29,
   "id": "63125148",
   "metadata": {},
   "outputs": [
    {
     "name": "stdout",
     "output_type": "stream",
     "text": [
      "W Ratio is 100\n"
     ]
    }
   ],
   "source": [
    "a = 'truth or dare'\n",
    "b = 'Truth Or Dare'\n",
    "wratio = fuzz.WRatio(a,b)\n",
    "print('W Ratio is',wratio)"
   ]
  },
  {
   "cell_type": "code",
   "execution_count": 30,
   "id": "cd5402e3",
   "metadata": {},
   "outputs": [
    {
     "name": "stdout",
     "output_type": "stream",
     "text": [
      "W Ratio is 100\n"
     ]
    }
   ],
   "source": [
    "a = 'truth or dare!!!'\n",
    "b = 'truth or dare'\n",
    "wratio = fuzz.WRatio(a,b)\n",
    "print('W Ratio is',wratio)"
   ]
  },
  {
   "cell_type": "code",
   "execution_count": 31,
   "id": "da6732e9",
   "metadata": {},
   "outputs": [
    {
     "name": "stdout",
     "output_type": "stream",
     "text": [
      "W Ratio is 96\n"
     ]
    }
   ],
   "source": [
    "a = 'truth or dare!!!'\n",
    "b = 'truth or dares'\n",
    "wratio = fuzz.WRatio(a,b)\n",
    "print('W Ratio is',wratio)"
   ]
  },
  {
   "cell_type": "code",
   "execution_count": 32,
   "id": "e30f3742",
   "metadata": {},
   "outputs": [
    {
     "name": "stdout",
     "output_type": "stream",
     "text": [
      "List of Ratios:\n",
      "[('artificial intelligence', 100), ('Artificial Intelligence', 100), ('a intelligence', 86), ('arts intelligence', 80)] \n",
      "\n",
      "Best among the above list: ('artificial intelligence', 100)\n"
     ]
    }
   ],
   "source": [
    "#from fuzzywuzzy import process\n",
    "query = 'artificial intelligence'\n",
    "choices = ['artificial intelligence', 'Artificial Intelligence', 'arts intelligence', 'a intelligence']\n",
    "print('List of Ratios:')\n",
    "print(process.extract(query,choices),'\\n')\n",
    "print('Best among the above list:',process.extractOne(query,choices))"
   ]
  },
  {
   "cell_type": "code",
   "execution_count": 33,
   "id": "e0d79a19",
   "metadata": {},
   "outputs": [
    {
     "data": {
      "text/plain": [
       "[('artificial intelligence', 100),\n",
       " ('Artificial Intelligence', 100),\n",
       " ('a intelligence', 86),\n",
       " ('arts intelligence', 80)]"
      ]
     },
     "execution_count": 33,
     "metadata": {},
     "output_type": "execute_result"
    }
   ],
   "source": [
    "process.extractBests(query,choices)\n"
   ]
  },
  {
   "cell_type": "code",
   "execution_count": null,
   "id": "150fdec9",
   "metadata": {},
   "outputs": [],
   "source": []
  }
 ],
 "metadata": {
  "kernelspec": {
   "display_name": "Python 3 (ipykernel)",
   "language": "python",
   "name": "python3"
  },
  "language_info": {
   "codemirror_mode": {
    "name": "ipython",
    "version": 3
   },
   "file_extension": ".py",
   "mimetype": "text/x-python",
   "name": "python",
   "nbconvert_exporter": "python",
   "pygments_lexer": "ipython3",
   "version": "3.9.12"
  }
 },
 "nbformat": 4,
 "nbformat_minor": 5
}
