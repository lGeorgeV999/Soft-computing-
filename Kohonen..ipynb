{
 "cells": [
  {
   "cell_type": "code",
   "execution_count": 1,
   "id": "7f7ec0ff",
   "metadata": {},
   "outputs": [],
   "source": [
    "import math\n"
   ]
  },
  {
   "cell_type": "code",
   "execution_count": 2,
   "id": "83c54cb6",
   "metadata": {},
   "outputs": [],
   "source": [
    "def winner(weights, sample):\n",
    "  d0 = 0\n",
    "  d1 = 0\n",
    "  for i in range(len(sample)):\n",
    "    d0 = d0 + math.pow((sample[i] - weights[0][i]),2)\n",
    "    d1 = d1 + math.pow((sample[i] - weights[1][i]),2)\n",
    "\n",
    "    if d0 > d1:\n",
    "      return 1\n",
    "    else:\n",
    "      return 0\n",
    "     "
   ]
  },
  {
   "cell_type": "code",
   "execution_count": 3,
   "id": "02c5d5da",
   "metadata": {},
   "outputs": [],
   "source": [
    "def update_w(weights, sample, J, alpha):\n",
    "  for i in range(len(weights)):\n",
    "    weights[J][i] = weights[J][i] + alpha * (sample[i] - weights[J][i])\n",
    "    return weights"
   ]
  },
  {
   "cell_type": "code",
   "execution_count": 4,
   "id": "8491dede",
   "metadata": {},
   "outputs": [],
   "source": [
    "# Training Examples\n",
    "T = [[1,1,0,0],[0,0,0,1],[1,0,0,0],[0,0,1,1]]\n",
    "\n",
    "m,n = len(T), len(T[0])\n",
    "\n",
    "#Initial Weights\n",
    "weights = [[0.2,0.6,0.5,0.9],[0.8,0.4,0.7,0.3]]\n",
    "     \n"
   ]
  },
  {
   "cell_type": "code",
   "execution_count": 5,
   "id": "a34be281",
   "metadata": {},
   "outputs": [
    {
     "name": "stdout",
     "output_type": "stream",
     "text": [
      "The sample S belongs to cluster 0\n",
      "Trained weights are  [[0.003125, 0.6, 0.5, 0.9], [0.996875, 0.4, 0.7, 0.3]]\n"
     ]
    }
   ],
   "source": [
    "epochs = 3\n",
    "alpha = 0.5\n",
    "\n",
    "for i in range(epochs):\n",
    "  for j in range(m):\n",
    "    sample = T[j]\n",
    "    J = winner(weights, sample)\n",
    "    weights = update_w(weights, sample, J, alpha)\n",
    "\n",
    "S = [0,0,0,1]\n",
    "print(\"The sample S belongs to cluster\", winner(weights,S))\n",
    "print(\"Trained weights are \", weights)"
   ]
  },
  {
   "cell_type": "code",
   "execution_count": null,
   "id": "e847a72f",
   "metadata": {},
   "outputs": [],
   "source": []
  }
 ],
 "metadata": {
  "kernelspec": {
   "display_name": "Python 3 (ipykernel)",
   "language": "python",
   "name": "python3"
  },
  "language_info": {
   "codemirror_mode": {
    "name": "ipython",
    "version": 3
   },
   "file_extension": ".py",
   "mimetype": "text/x-python",
   "name": "python",
   "nbconvert_exporter": "python",
   "pygments_lexer": "ipython3",
   "version": "3.9.12"
  }
 },
 "nbformat": 4,
 "nbformat_minor": 5
}
