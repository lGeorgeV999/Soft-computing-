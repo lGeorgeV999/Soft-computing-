{
 "cells": [
  {
   "cell_type": "code",
   "execution_count": 1,
   "id": "25845859",
   "metadata": {},
   "outputs": [],
   "source": [
    "import numpy as np\n",
    "import warnings\n",
    "warnings.filterwarnings('ignore')\n"
   ]
  },
  {
   "cell_type": "code",
   "execution_count": 2,
   "id": "0feeeba4",
   "metadata": {},
   "outputs": [],
   "source": [
    "x = np.array([1,1,1,-1,1,-1,1,1,1])\n"
   ]
  },
  {
   "cell_type": "code",
   "execution_count": 3,
   "id": "ba66cd4d",
   "metadata": {},
   "outputs": [],
   "source": [
    "b = 0\n"
   ]
  },
  {
   "cell_type": "code",
   "execution_count": 4,
   "id": "ae1606aa",
   "metadata": {},
   "outputs": [],
   "source": [
    "#y = output\n",
    "y = np.array([1,-1])"
   ]
  },
  {
   "cell_type": "code",
   "execution_count": 5,
   "id": "464e607b",
   "metadata": {},
   "outputs": [],
   "source": [
    "wtold = np.zeros((9,))\n",
    "wtnew = np.zeros((9,))"
   ]
  },
  {
   "cell_type": "code",
   "execution_count": 6,
   "id": "499a3afb",
   "metadata": {},
   "outputs": [],
   "source": [
    "wtnew = wtnew.astype(int)\n",
    "wtold = wtold.astype(int)"
   ]
  },
  {
   "cell_type": "code",
   "execution_count": 7,
   "id": "cd91d8e8",
   "metadata": {},
   "outputs": [
    {
     "data": {
      "text/plain": [
       "array([0, 0, 0, 0, 0, 0, 0, 0, 0])"
      ]
     },
     "execution_count": 7,
     "metadata": {},
     "output_type": "execute_result"
    }
   ],
   "source": [
    "wtnew\n"
   ]
  },
  {
   "cell_type": "code",
   "execution_count": 8,
   "id": "1e368f6f",
   "metadata": {},
   "outputs": [
    {
     "data": {
      "text/plain": [
       "array([0, 0, 0, 0, 0, 0, 0, 0, 0])"
      ]
     },
     "execution_count": 8,
     "metadata": {},
     "output_type": "execute_result"
    }
   ],
   "source": [
    "wtold"
   ]
  },
  {
   "cell_type": "markdown",
   "id": "52d9c2fc",
   "metadata": {},
   "source": [
    "Weights update formula\n",
    "==\n",
    "\n",
    "wt(new) = wt(old) + xi * y\n",
    "\n",
    "\n",
    "Bias Update\n",
    "==\n",
    "\n",
    "b(new) = b(old) + y\n"
   ]
  },
  {
   "cell_type": "code",
   "execution_count": 9,
   "id": "e5027312",
   "metadata": {},
   "outputs": [
    {
     "name": "stdout",
     "output_type": "stream",
     "text": [
      "First input with target = 1\n"
     ]
    }
   ],
   "source": [
    "print('First input with target = 1')\n",
    "for i in range(0,9):\n",
    "    wtold[i] = wtold[i] + x[i] * y[0]\n",
    "wtnew = wtold    \n",
    "b = b + y[0]"
   ]
  },
  {
   "cell_type": "code",
   "execution_count": 10,
   "id": "d751806c",
   "metadata": {},
   "outputs": [
    {
     "name": "stdout",
     "output_type": "stream",
     "text": [
      "New weights: [ 1  1  1 -1  1 -1  1  1  1]\n",
      "Bias value: 1\n"
     ]
    }
   ],
   "source": [
    "print('New weights:', wtnew)\n",
    "print('Bias value:', b)"
   ]
  },
  {
   "cell_type": "code",
   "execution_count": 11,
   "id": "60d71f67",
   "metadata": {},
   "outputs": [
    {
     "data": {
      "text/plain": [
       "array([ 1,  1,  1,  1, -1,  1,  1,  1,  1])"
      ]
     },
     "execution_count": 11,
     "metadata": {},
     "output_type": "execute_result"
    }
   ],
   "source": [
    "x2 = np.array([1,1,1,1,-1,1,1,1,1])\n",
    "x2"
   ]
  },
  {
   "cell_type": "code",
   "execution_count": 12,
   "id": "1d79baf0",
   "metadata": {},
   "outputs": [
    {
     "name": "stdout",
     "output_type": "stream",
     "text": [
      "First input with target = -1\n"
     ]
    }
   ],
   "source": [
    "print('First input with target = -1')\n",
    "for i in range(0,9):\n",
    "    wtnew[i] = wtold[i] + x2[i] * y[1]\n",
    "b = b + y[1]"
   ]
  },
  {
   "cell_type": "code",
   "execution_count": 13,
   "id": "e0517979",
   "metadata": {},
   "outputs": [
    {
     "name": "stdout",
     "output_type": "stream",
     "text": [
      "New weights: [ 0  0  0 -2  2 -2  0  0  0]\n",
      "Bias value: 0\n"
     ]
    }
   ],
   "source": [
    "print('New weights:', wtnew)\n",
    "print('Bias value:', b)"
   ]
  },
  {
   "cell_type": "code",
   "execution_count": null,
   "id": "def6a50d",
   "metadata": {},
   "outputs": [],
   "source": []
  }
 ],
 "metadata": {
  "kernelspec": {
   "display_name": "Python 3 (ipykernel)",
   "language": "python",
   "name": "python3"
  },
  "language_info": {
   "codemirror_mode": {
    "name": "ipython",
    "version": 3
   },
   "file_extension": ".py",
   "mimetype": "text/x-python",
   "name": "python",
   "nbconvert_exporter": "python",
   "pygments_lexer": "ipython3",
   "version": "3.9.12"
  }
 },
 "nbformat": 4,
 "nbformat_minor": 5
}
