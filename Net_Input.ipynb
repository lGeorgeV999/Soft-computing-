{
 "cells": [
  {
   "cell_type": "code",
   "execution_count": 1,
   "id": "8069d285",
   "metadata": {},
   "outputs": [],
   "source": [
    "import math\n"
   ]
  },
  {
   "cell_type": "code",
   "execution_count": 2,
   "id": "a6a852f7",
   "metadata": {},
   "outputs": [
    {
     "name": "stdout",
     "output_type": "stream",
     "text": [
      "Enter the value for bias: 0.33\n",
      "Enter the number of input neurons: 1\n"
     ]
    }
   ],
   "source": [
    "bias = float(input(\"Enter the value for bias: \"))\n",
    "n = int(input(\"Enter the number of input neurons: \"))"
   ]
  },
  {
   "cell_type": "code",
   "execution_count": 3,
   "id": "8b0443b3",
   "metadata": {},
   "outputs": [
    {
     "name": "stdout",
     "output_type": "stream",
     "text": [
      "bias value is 0.33\n",
      "U decided to go with 1 input neurons\n"
     ]
    }
   ],
   "source": [
    "print(\"bias value is\",bias)\n",
    "print(\"U decided to go with\",n,\"input neurons\")"
   ]
  },
  {
   "cell_type": "code",
   "execution_count": 4,
   "id": "73061ba7",
   "metadata": {},
   "outputs": [
    {
     "name": "stdout",
     "output_type": "stream",
     "text": [
      "Enter input value: 0.8\n",
      "Enter weight value: 0.6\n"
     ]
    }
   ],
   "source": [
    "weights=[]\n",
    "inputs=[]\n",
    "for i in range (0,n):\n",
    "    a=float(input(\"Enter input value: \"))\n",
    "    inputs.append(a)\n",
    "    b=float(input(\"Enter weight value: \"))\n",
    "    weights.append(b)"
   ]
  },
  {
   "cell_type": "code",
   "execution_count": 5,
   "id": "57ae388e",
   "metadata": {},
   "outputs": [
    {
     "name": "stdout",
     "output_type": "stream",
     "text": [
      "Inputs are :\n",
      "[0.8]\n"
     ]
    }
   ],
   "source": [
    "print(\"Inputs are :\")\n",
    "print(inputs)"
   ]
  },
  {
   "cell_type": "code",
   "execution_count": 6,
   "id": "8670f0c2",
   "metadata": {},
   "outputs": [
    {
     "name": "stdout",
     "output_type": "stream",
     "text": [
      "Weights are :\n",
      "[0.6]\n"
     ]
    }
   ],
   "source": [
    "print(\"Weights are :\")\n",
    "print(weights)"
   ]
  },
  {
   "cell_type": "code",
   "execution_count": 7,
   "id": "ebba84fb",
   "metadata": {},
   "outputs": [
    {
     "name": "stdout",
     "output_type": "stream",
     "text": [
      "Net Input is : 0.81\n"
     ]
    }
   ],
   "source": [
    "net_input = bias\n",
    "for i in range(0,n):\n",
    "    net_input = net_input + (weights[i]*inputs[i])\n",
    "print(\"Net Input is :\",net_input)"
   ]
  },
  {
   "cell_type": "code",
   "execution_count": 8,
   "id": "fd0284df",
   "metadata": {},
   "outputs": [
    {
     "name": "stdout",
     "output_type": "stream",
     "text": [
      "output using binary sigmoidal activation function 0.692\n"
     ]
    }
   ],
   "source": [
    "#Calculating output using binary sigmoidal activation function\n",
    "binary_op=1/(1+(math.exp(-net_input)))\n",
    "print(\"output using binary sigmoidal activation function\",\n",
    "     round(binary_op,3))"
   ]
  },
  {
   "cell_type": "code",
   "execution_count": 9,
   "id": "02e6a460",
   "metadata": {},
   "outputs": [
    {
     "name": "stdout",
     "output_type": "stream",
     "text": [
      "output using bipolar sigmoidal activation function 0.384\n"
     ]
    }
   ],
   "source": [
    "#Calculating output using binary sigmoidal activation function\n",
    "bipolar_op=-1+(2/(1+(math.exp(-net_input))))\n",
    "print(\"output using bipolar sigmoidal activation function\",\n",
    "     round(bipolar_op,3))"
   ]
  },
  {
   "cell_type": "code",
   "execution_count": null,
   "id": "544c5c36",
   "metadata": {},
   "outputs": [],
   "source": []
  }
 ],
 "metadata": {
  "kernelspec": {
   "display_name": "Python 3 (ipykernel)",
   "language": "python",
   "name": "python3"
  },
  "language_info": {
   "codemirror_mode": {
    "name": "ipython",
    "version": 3
   },
   "file_extension": ".py",
   "mimetype": "text/x-python",
   "name": "python",
   "nbconvert_exporter": "python",
   "pygments_lexer": "ipython3",
   "version": "3.9.12"
  }
 },
 "nbformat": 4,
 "nbformat_minor": 5
}
