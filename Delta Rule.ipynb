{
 "cells": [
  {
   "cell_type": "markdown",
   "id": "ff1e9432",
   "metadata": {},
   "source": [
    "## Write a program to implement Delta Rule\n"
   ]
  },
  {
   "cell_type": "code",
   "execution_count": 1,
   "id": "b8b6ec46",
   "metadata": {},
   "outputs": [],
   "source": [
    "import numpy as np\n",
    "import warnings\n",
    "warnings.filterwarnings('ignore')"
   ]
  },
  {
   "cell_type": "code",
   "execution_count": 2,
   "id": "36bc7b30",
   "metadata": {},
   "outputs": [],
   "source": [
    "x = np.zeros((3,))\n"
   ]
  },
  {
   "cell_type": "code",
   "execution_count": 3,
   "id": "940f78c4",
   "metadata": {},
   "outputs": [],
   "source": [
    "weights = np.zeros((3,))\n"
   ]
  },
  {
   "cell_type": "code",
   "execution_count": 4,
   "id": "51e89e5d",
   "metadata": {},
   "outputs": [],
   "source": [
    "desired = np.zeros((3,))\n"
   ]
  },
  {
   "cell_type": "code",
   "execution_count": 5,
   "id": "2c959d04",
   "metadata": {},
   "outputs": [],
   "source": [
    "actual = np.zeros((3,))\n"
   ]
  },
  {
   "cell_type": "code",
   "execution_count": 6,
   "id": "e182318e",
   "metadata": {},
   "outputs": [
    {
     "name": "stdout",
     "output_type": "stream",
     "text": [
      "Initial Inputs:1\n",
      "Initial Inputs:1\n",
      "Initial Inputs:1\n"
     ]
    }
   ],
   "source": [
    "for i in range(0,3):\n",
    "    x[i] = float(input(\"Initial Inputs:\"))"
   ]
  },
  {
   "cell_type": "code",
   "execution_count": 8,
   "id": "5a3b6f79",
   "metadata": {},
   "outputs": [
    {
     "name": "stdout",
     "output_type": "stream",
     "text": [
      "Initial Weights:2\n",
      "Initial Weights:2\n",
      "Initial Weights:2\n"
     ]
    }
   ],
   "source": [
    "for i in range(0,3):\n",
    "    weights[i] = float(input(\"Initial Weights:\"))"
   ]
  },
  {
   "cell_type": "code",
   "execution_count": 9,
   "id": "51f5a3df",
   "metadata": {},
   "outputs": [
    {
     "name": "stdout",
     "output_type": "stream",
     "text": [
      "Desired Output:3\n",
      "Desired Output:3\n",
      "Desired Output:3\n"
     ]
    }
   ],
   "source": [
    "for i in range(0,3):\n",
    "    desired[i] = float(input(\"Desired Output:\"))"
   ]
  },
  {
   "cell_type": "code",
   "execution_count": 10,
   "id": "a3539eb6",
   "metadata": {},
   "outputs": [
    {
     "name": "stdout",
     "output_type": "stream",
     "text": [
      "Enter Learning Rate:1\n"
     ]
    }
   ],
   "source": [
    "a = float(input(\"Enter Learning Rate:\"))\n"
   ]
  },
  {
   "cell_type": "code",
   "execution_count": 11,
   "id": "c546e013",
   "metadata": {},
   "outputs": [
    {
     "data": {
      "text/plain": [
       "array([1., 1., 1.])"
      ]
     },
     "execution_count": 11,
     "metadata": {},
     "output_type": "execute_result"
    }
   ],
   "source": [
    "x"
   ]
  },
  {
   "cell_type": "code",
   "execution_count": 12,
   "id": "78c1f8a3",
   "metadata": {},
   "outputs": [
    {
     "data": {
      "text/plain": [
       "array([2., 2., 2.])"
      ]
     },
     "execution_count": 12,
     "metadata": {},
     "output_type": "execute_result"
    }
   ],
   "source": [
    "weights\n"
   ]
  },
  {
   "cell_type": "code",
   "execution_count": 13,
   "id": "039349a3",
   "metadata": {},
   "outputs": [
    {
     "data": {
      "text/plain": [
       "array([3., 3., 3.])"
      ]
     },
     "execution_count": 13,
     "metadata": {},
     "output_type": "execute_result"
    }
   ],
   "source": [
    "desired"
   ]
  },
  {
   "cell_type": "code",
   "execution_count": 14,
   "id": "26cf1310",
   "metadata": {},
   "outputs": [
    {
     "data": {
      "text/plain": [
       "1.0"
      ]
     },
     "execution_count": 14,
     "metadata": {},
     "output_type": "execute_result"
    }
   ],
   "source": [
    "a"
   ]
  },
  {
   "cell_type": "code",
   "execution_count": 15,
   "id": "d4370169",
   "metadata": {},
   "outputs": [],
   "source": [
    "actual = x * weights\n"
   ]
  },
  {
   "cell_type": "code",
   "execution_count": 16,
   "id": "b4b1dcb3",
   "metadata": {},
   "outputs": [
    {
     "name": "stdout",
     "output_type": "stream",
     "text": [
      "Actual Output: [2. 2. 2.]\n",
      "Desired Output: [3. 3. 3.]\n"
     ]
    }
   ],
   "source": [
    "print(\"Actual Output:\",actual)\n",
    "print(\"Desired Output:\",desired)"
   ]
  },
  {
   "cell_type": "markdown",
   "id": "be42fbcb",
   "metadata": {},
   "source": [
    "Delta Rule\n",
    "==\n",
    "\n",
    "lr = learning rate \n",
    "\n",
    "wnew = wold + lr * (desired[i] - actual[i])\n"
   ]
  },
  {
   "cell_type": "code",
   "execution_count": 17,
   "id": "5d31b07b",
   "metadata": {},
   "outputs": [],
   "source": [
    "while True:\n",
    "    if np.array_equal(desired, actual):\n",
    "        break\n",
    "    else:\n",
    "        for i in range(0,3):\n",
    "            weights[i] = weights[i] + a * (desired[i] - actual[i])\n",
    "            actual = x * weights"
   ]
  },
  {
   "cell_type": "code",
   "execution_count": 18,
   "id": "6e085146",
   "metadata": {},
   "outputs": [
    {
     "name": "stdout",
     "output_type": "stream",
     "text": [
      "Final Output:\n",
      "Corrected Weights: [3. 3. 3.]\n",
      "Actual Output: [3. 3. 3.]\n",
      "Desired Output: [3. 3. 3.]\n"
     ]
    }
   ],
   "source": [
    "print(\"Final Output:\")\n",
    "print(\"Corrected Weights:\", weights)\n",
    "print(\"Actual Output:\",actual)\n",
    "print(\"Desired Output:\",desired)"
   ]
  },
  {
   "cell_type": "code",
   "execution_count": null,
   "id": "2de37021",
   "metadata": {},
   "outputs": [],
   "source": []
  }
 ],
 "metadata": {
  "kernelspec": {
   "display_name": "Python 3 (ipykernel)",
   "language": "python",
   "name": "python3"
  },
  "language_info": {
   "codemirror_mode": {
    "name": "ipython",
    "version": 3
   },
   "file_extension": ".py",
   "mimetype": "text/x-python",
   "name": "python",
   "nbconvert_exporter": "python",
   "pygments_lexer": "ipython3",
   "version": "3.9.12"
  }
 },
 "nbformat": 4,
 "nbformat_minor": 5
}
